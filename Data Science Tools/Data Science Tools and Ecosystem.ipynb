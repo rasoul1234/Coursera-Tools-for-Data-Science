{
 "cells": [
  {
   "cell_type": "markdown",
   "id": "0356c3d7-74cb-4563-b6fa-1b0dde2ac80f",
   "metadata": {},
   "source": [
    "# Data Science Tools and Ecosystem"
   ]
  },
  {
   "cell_type": "markdown",
   "id": "861b4270-5642-4acf-977e-2cf6620b7f32",
   "metadata": {},
   "source": [
    "## Introduction\n",
    "In this notebook, Data Science Tools and Ecosystem are summarized."
   ]
  },
  {
   "cell_type": "markdown",
   "id": "4253b092-ea8e-440e-8af8-aaadafd39d49",
   "metadata": {},
   "source": [
    "Some of the popular languages that Data Scientists use are:\n",
    "- Python\n",
    "- R\n",
    "- SQL\n",
    "- Julia\n",
    "- Scala\n"
   ]
  },
  {
   "cell_type": "markdown",
   "id": "6fac8634-63d6-430c-8c07-a553104f574a",
   "metadata": {},
   "source": [
    "## Data Science Tools\n",
    "\n",
    "| Data Science Tools  |\n",
    "|---------------------|\n",
    "| Jupyter             |\n",
    "| Spyder              |\n",
    "| RStudio             |\n"
   ]
  },
  {
   "cell_type": "markdown",
   "id": "83ae5162-75f2-4a28-a21c-8fde402c776a",
   "metadata": {},
   "source": [
    "### Below are a few examples of evaluating arithmetic expressions in Python.\n"
   ]
  },
  {
   "cell_type": "code",
   "execution_count": 3,
   "id": "8980f122-581d-48e2-9047-b5c031d2d41c",
   "metadata": {},
   "outputs": [
    {
     "data": {
      "text/plain": [
       "17"
      ]
     },
     "execution_count": 3,
     "metadata": {},
     "output_type": "execute_result"
    }
   ],
   "source": [
    "# This is a simple arithmetic expression to multiply then add integers\n",
    "result = (3 * 4) + 5\n",
    "result\n"
   ]
  },
  {
   "cell_type": "code",
   "execution_count": 4,
   "id": "4cb4687a-660f-40b3-9d57-920fde890b93",
   "metadata": {},
   "outputs": [
    {
     "data": {
      "text/plain": [
       "3.3333333333333335"
      ]
     },
     "execution_count": 4,
     "metadata": {},
     "output_type": "execute_result"
    }
   ],
   "source": [
    "# This will convert 200 minutes to hours by dividing by 60\n",
    "hours = 200 / 60\n",
    "hours\n"
   ]
  },
  {
   "cell_type": "markdown",
   "id": "5fdf0e5e-08f3-4b2a-83e9-7e12a2446048",
   "metadata": {},
   "source": [
    "**Objectives:**\n",
    "- List popular languages for Data Science.\n",
    "- Learn basic arithmetic operations in Python.\n",
    "- Understand how to convert minutes to hours.\n",
    "- Explore common data science tools.\n"
   ]
  },
  {
   "cell_type": "markdown",
   "id": "67083e19-8024-45ea-8794-d98e944e6639",
   "metadata": {},
   "source": [
    "## Author\n",
    "Muhammad Rasoul Sahibzadah\n"
   ]
  },
  {
   "cell_type": "code",
   "execution_count": null,
   "id": "3f6cea76-f26f-4f04-9b6d-878453046b48",
   "metadata": {},
   "outputs": [],
   "source": []
  }
 ],
 "metadata": {
  "kernelspec": {
   "display_name": "Python 3 (ipykernel)",
   "language": "python",
   "name": "python3"
  },
  "language_info": {
   "codemirror_mode": {
    "name": "ipython",
    "version": 3
   },
   "file_extension": ".py",
   "mimetype": "text/x-python",
   "name": "python",
   "nbconvert_exporter": "python",
   "pygments_lexer": "ipython3",
   "version": "3.11.9"
  }
 },
 "nbformat": 4,
 "nbformat_minor": 5
}
